{
  "nbformat": 4,
  "nbformat_minor": 0,
  "metadata": {
    "colab": {
      "provenance": [],
      "include_colab_link": true
    },
    "kernelspec": {
      "name": "python3",
      "display_name": "Python 3"
    },
    "language_info": {
      "name": "python"
    }
  },
  "cells": [
    {
      "cell_type": "markdown",
      "metadata": {
        "id": "view-in-github",
        "colab_type": "text"
      },
      "source": [
        "<a href=\"https://colab.research.google.com/github/hadiabahadur13/DataVisualization/blob/main/Exploratory_Data_Analysis_and_Predictive_Modeling_of_Screen_Time_and_Mental_Wellness.ipynb\" target=\"_parent\"><img src=\"https://colab.research.google.com/assets/colab-badge.svg\" alt=\"Open In Colab\"/></a>"
      ]
    },
    {
      "cell_type": "markdown",
      "source": [
        "---   \n",
        " <img align=\"left\" width=\"75\" height=\"75\"  src=\"data:image/jpeg;base64,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\">\n",
        "\n",
        "<h1 align=\"center\">Exploratory Data Analysis and Predictive Modeling of Screen Time and Mental Wellness</h1>\n",
        "\n",
        "---\n",
        "<h3><div align=\"right\">Researcher: Hadiya Bahadur </div></h3>    "
      ],
      "metadata": {
        "id": "iTonP2ID_sxn"
      }
    },
    {
      "cell_type": "markdown",
      "source": [
        "<h1 align=\"center\">Data Analysis and Predictive Modeling</h1>"
      ],
      "metadata": {
        "id": "iOxut33MG3cx"
      }
    },
    {
      "cell_type": "markdown",
      "source": [
        "This study focused on exploring how screen time and sleep relate to mental wellness. The dataset was cleaned and prepared by handling outliers, followed by exploratory analysis to identify key patterns. Statistical methods such as regression and ANOVA were applied to test relationships, and predictive models (Linear Regression and Random Forest) were developed to evaluate their effectiveness.\n",
        "## Learning agenda of this Analysis\n",
        "1. To practice essential data preparation and cleaning techniques.\n",
        "2. To apply exploratory and statistical analysis methods on real-world data.\n",
        "3. To build and evaluate predictive models for understanding mental wellness."
      ],
      "metadata": {
        "id": "xmTelCOIAvyK"
      }
    },
    {
      "cell_type": "markdown",
      "source": [
        "### Mount Google Drive"
      ],
      "metadata": {
        "id": "-AThOEAtr8Cp"
      }
    },
    {
      "cell_type": "code",
      "execution_count": null,
      "metadata": {
        "colab": {
          "base_uri": "https://localhost:8080/"
        },
        "id": "x3-v7dvlnREe",
        "outputId": "f2a2b012-1618-4e3a-d1b9-c4e5668563dc"
      },
      "outputs": [
        {
          "output_type": "stream",
          "name": "stdout",
          "text": [
            "Drive already mounted at /content/mydrive; to attempt to forcibly remount, call drive.mount(\"/content/mydrive\", force_remount=True).\n"
          ]
        }
      ],
      "source": [
        "from google.colab import drive\n",
        "drive.mount('/content/mydrive')\n"
      ]
    },
    {
      "cell_type": "markdown",
      "source": [
        "##**Import Libraries**"
      ],
      "metadata": {
        "id": "-le_sSLusSpi"
      }
    },
    {
      "cell_type": "code",
      "source": [
        "import pandas as pd\n",
        "import matplotlib.pyplot as plt\n",
        "import seaborn as sns"
      ],
      "metadata": {
        "id": "0Fu6j6EWt30a"
      },
      "execution_count": null,
      "outputs": []
    },
    {
      "cell_type": "markdown",
      "source": [
        "We imported essential Python libraries for analysis. Pandas was used for data handling and manipulation, Matplotlib and Seaborn were applied for creating visualizations to better understand patterns and trends in the dataset."
      ],
      "metadata": {
        "id": "UolxNdcoHiTC"
      }
    },
    {
      "cell_type": "markdown",
      "source": [
        "# **Path to Dataset**"
      ],
      "metadata": {
        "id": "ZuT49uIcuVZI"
      }
    },
    {
      "cell_type": "code",
      "source": [
        "file_path = '/content/mydrive/MyDrive/practice/ST-MW.csv'"
      ],
      "metadata": {
        "id": "cn4wnstyt-Ik"
      },
      "execution_count": null,
      "outputs": []
    },
    {
      "cell_type": "markdown",
      "source": [
        "\n",
        "\n",
        "## **Read dataset**\n"
      ],
      "metadata": {
        "id": "GXbqvuX0sg-p"
      }
    },
    {
      "cell_type": "code",
      "source": [
        "df = pd.read_csv('/content/mydrive/MyDrive/practice/ST-MW.csv')"
      ],
      "metadata": {
        "id": "2h_OyqQYrCnk"
      },
      "execution_count": null,
      "outputs": []
    },
    {
      "cell_type": "code",
      "source": [
        "df.head()"
      ],
      "metadata": {
        "colab": {
          "base_uri": "https://localhost:8080/",
          "height": 243
        },
        "id": "xu6xODyssxI5",
        "outputId": "bc8ddd93-7e68-450b-c884-c75e15865779"
      },
      "execution_count": null,
      "outputs": [
        {
          "output_type": "execute_result",
          "data": {
            "text/plain": [
              "  user_id  age  gender occupation  work_mode  screen_time_hours  \\\n",
              "0   U0001   33  Female   Employed     Remote              10.79   \n",
              "1   U0002   28  Female   Employed  In-person               7.40   \n",
              "2   U0003   35  Female   Employed     Hybrid               9.78   \n",
              "3   U0004   42    Male   Employed     Hybrid              11.13   \n",
              "4   U0005   28    Male    Student     Remote              13.22   \n",
              "\n",
              "   work_screen_hours  leisure_screen_hours  sleep_hours  sleep_quality_1_5  \\\n",
              "0               5.44                  5.35         6.63                  1   \n",
              "1               0.37                  7.03         8.05                  3   \n",
              "2               1.09                  8.69         6.48                  1   \n",
              "3               0.56                 10.57         6.89                  1   \n",
              "4               4.09                  9.13         5.79                  1   \n",
              "\n",
              "   stress_level_0_10  productivity_0_100  exercise_minutes_per_week  \\\n",
              "0                9.3                44.7                        127   \n",
              "1                5.7                78.0                         74   \n",
              "2                9.1                51.8                         67   \n",
              "3               10.0                37.0                          0   \n",
              "4               10.0                38.5                        143   \n",
              "\n",
              "   social_hours_per_week  mental_wellness_index_0_100  Unnamed: 15  \n",
              "0                    0.7                          9.3          NaN  \n",
              "1                    2.1                         56.2          NaN  \n",
              "2                    8.0                          3.6          NaN  \n",
              "3                    5.7                          0.0          NaN  \n",
              "4                   10.1                          0.0          NaN  "
            ],
            "text/html": [
              "\n",
              "  <div id=\"df-a91493c9-bacd-4171-8992-05d969d749dc\" class=\"colab-df-container\">\n",
              "    <div>\n",
              "<style scoped>\n",
              "    .dataframe tbody tr th:only-of-type {\n",
              "        vertical-align: middle;\n",
              "    }\n",
              "\n",
              "    .dataframe tbody tr th {\n",
              "        vertical-align: top;\n",
              "    }\n",
              "\n",
              "    .dataframe thead th {\n",
              "        text-align: right;\n",
              "    }\n",
              "</style>\n",
              "<table border=\"1\" class=\"dataframe\">\n",
              "  <thead>\n",
              "    <tr style=\"text-align: right;\">\n",
              "      <th></th>\n",
              "      <th>user_id</th>\n",
              "      <th>age</th>\n",
              "      <th>gender</th>\n",
              "      <th>occupation</th>\n",
              "      <th>work_mode</th>\n",
              "      <th>screen_time_hours</th>\n",
              "      <th>work_screen_hours</th>\n",
              "      <th>leisure_screen_hours</th>\n",
              "      <th>sleep_hours</th>\n",
              "      <th>sleep_quality_1_5</th>\n",
              "      <th>stress_level_0_10</th>\n",
              "      <th>productivity_0_100</th>\n",
              "      <th>exercise_minutes_per_week</th>\n",
              "      <th>social_hours_per_week</th>\n",
              "      <th>mental_wellness_index_0_100</th>\n",
              "      <th>Unnamed: 15</th>\n",
              "    </tr>\n",
              "  </thead>\n",
              "  <tbody>\n",
              "    <tr>\n",
              "      <th>0</th>\n",
              "      <td>U0001</td>\n",
              "      <td>33</td>\n",
              "      <td>Female</td>\n",
              "      <td>Employed</td>\n",
              "      <td>Remote</td>\n",
              "      <td>10.79</td>\n",
              "      <td>5.44</td>\n",
              "      <td>5.35</td>\n",
              "      <td>6.63</td>\n",
              "      <td>1</td>\n",
              "      <td>9.3</td>\n",
              "      <td>44.7</td>\n",
              "      <td>127</td>\n",
              "      <td>0.7</td>\n",
              "      <td>9.3</td>\n",
              "      <td>NaN</td>\n",
              "    </tr>\n",
              "    <tr>\n",
              "      <th>1</th>\n",
              "      <td>U0002</td>\n",
              "      <td>28</td>\n",
              "      <td>Female</td>\n",
              "      <td>Employed</td>\n",
              "      <td>In-person</td>\n",
              "      <td>7.40</td>\n",
              "      <td>0.37</td>\n",
              "      <td>7.03</td>\n",
              "      <td>8.05</td>\n",
              "      <td>3</td>\n",
              "      <td>5.7</td>\n",
              "      <td>78.0</td>\n",
              "      <td>74</td>\n",
              "      <td>2.1</td>\n",
              "      <td>56.2</td>\n",
              "      <td>NaN</td>\n",
              "    </tr>\n",
              "    <tr>\n",
              "      <th>2</th>\n",
              "      <td>U0003</td>\n",
              "      <td>35</td>\n",
              "      <td>Female</td>\n",
              "      <td>Employed</td>\n",
              "      <td>Hybrid</td>\n",
              "      <td>9.78</td>\n",
              "      <td>1.09</td>\n",
              "      <td>8.69</td>\n",
              "      <td>6.48</td>\n",
              "      <td>1</td>\n",
              "      <td>9.1</td>\n",
              "      <td>51.8</td>\n",
              "      <td>67</td>\n",
              "      <td>8.0</td>\n",
              "      <td>3.6</td>\n",
              "      <td>NaN</td>\n",
              "    </tr>\n",
              "    <tr>\n",
              "      <th>3</th>\n",
              "      <td>U0004</td>\n",
              "      <td>42</td>\n",
              "      <td>Male</td>\n",
              "      <td>Employed</td>\n",
              "      <td>Hybrid</td>\n",
              "      <td>11.13</td>\n",
              "      <td>0.56</td>\n",
              "      <td>10.57</td>\n",
              "      <td>6.89</td>\n",
              "      <td>1</td>\n",
              "      <td>10.0</td>\n",
              "      <td>37.0</td>\n",
              "      <td>0</td>\n",
              "      <td>5.7</td>\n",
              "      <td>0.0</td>\n",
              "      <td>NaN</td>\n",
              "    </tr>\n",
              "    <tr>\n",
              "      <th>4</th>\n",
              "      <td>U0005</td>\n",
              "      <td>28</td>\n",
              "      <td>Male</td>\n",
              "      <td>Student</td>\n",
              "      <td>Remote</td>\n",
              "      <td>13.22</td>\n",
              "      <td>4.09</td>\n",
              "      <td>9.13</td>\n",
              "      <td>5.79</td>\n",
              "      <td>1</td>\n",
              "      <td>10.0</td>\n",
              "      <td>38.5</td>\n",
              "      <td>143</td>\n",
              "      <td>10.1</td>\n",
              "      <td>0.0</td>\n",
              "      <td>NaN</td>\n",
              "    </tr>\n",
              "  </tbody>\n",
              "</table>\n",
              "</div>\n",
              "    <div class=\"colab-df-buttons\">\n",
              "\n",
              "  <div class=\"colab-df-container\">\n",
              "    <button class=\"colab-df-convert\" onclick=\"convertToInteractive('df-a91493c9-bacd-4171-8992-05d969d749dc')\"\n",
              "            title=\"Convert this dataframe to an interactive table.\"\n",
              "            style=\"display:none;\">\n",
              "\n",
              "  <svg xmlns=\"http://www.w3.org/2000/svg\" height=\"24px\" viewBox=\"0 -960 960 960\">\n",
              "    <path d=\"M120-120v-720h720v720H120Zm60-500h600v-160H180v160Zm220 220h160v-160H400v160Zm0 220h160v-160H400v160ZM180-400h160v-160H180v160Zm440 0h160v-160H620v160ZM180-180h160v-160H180v160Zm440 0h160v-160H620v160Z\"/>\n",
              "  </svg>\n",
              "    </button>\n",
              "\n",
              "  <style>\n",
              "    .colab-df-container {\n",
              "      display:flex;\n",
              "      gap: 12px;\n",
              "    }\n",
              "\n",
              "    .colab-df-convert {\n",
              "      background-color: #E8F0FE;\n",
              "      border: none;\n",
              "      border-radius: 50%;\n",
              "      cursor: pointer;\n",
              "      display: none;\n",
              "      fill: #1967D2;\n",
              "      height: 32px;\n",
              "      padding: 0 0 0 0;\n",
              "      width: 32px;\n",
              "    }\n",
              "\n",
              "    .colab-df-convert:hover {\n",
              "      background-color: #E2EBFA;\n",
              "      box-shadow: 0px 1px 2px rgba(60, 64, 67, 0.3), 0px 1px 3px 1px rgba(60, 64, 67, 0.15);\n",
              "      fill: #174EA6;\n",
              "    }\n",
              "\n",
              "    .colab-df-buttons div {\n",
              "      margin-bottom: 4px;\n",
              "    }\n",
              "\n",
              "    [theme=dark] .colab-df-convert {\n",
              "      background-color: #3B4455;\n",
              "      fill: #D2E3FC;\n",
              "    }\n",
              "\n",
              "    [theme=dark] .colab-df-convert:hover {\n",
              "      background-color: #434B5C;\n",
              "      box-shadow: 0px 1px 3px 1px rgba(0, 0, 0, 0.15);\n",
              "      filter: drop-shadow(0px 1px 2px rgba(0, 0, 0, 0.3));\n",
              "      fill: #FFFFFF;\n",
              "    }\n",
              "  </style>\n",
              "\n",
              "    <script>\n",
              "      const buttonEl =\n",
              "        document.querySelector('#df-a91493c9-bacd-4171-8992-05d969d749dc button.colab-df-convert');\n",
              "      buttonEl.style.display =\n",
              "        google.colab.kernel.accessAllowed ? 'block' : 'none';\n",
              "\n",
              "      async function convertToInteractive(key) {\n",
              "        const element = document.querySelector('#df-a91493c9-bacd-4171-8992-05d969d749dc');\n",
              "        const dataTable =\n",
              "          await google.colab.kernel.invokeFunction('convertToInteractive',\n",
              "                                                    [key], {});\n",
              "        if (!dataTable) return;\n",
              "\n",
              "        const docLinkHtml = 'Like what you see? Visit the ' +\n",
              "          '<a target=\"_blank\" href=https://colab.research.google.com/notebooks/data_table.ipynb>data table notebook</a>'\n",
              "          + ' to learn more about interactive tables.';\n",
              "        element.innerHTML = '';\n",
              "        dataTable['output_type'] = 'display_data';\n",
              "        await google.colab.output.renderOutput(dataTable, element);\n",
              "        const docLink = document.createElement('div');\n",
              "        docLink.innerHTML = docLinkHtml;\n",
              "        element.appendChild(docLink);\n",
              "      }\n",
              "    </script>\n",
              "  </div>\n",
              "\n",
              "\n",
              "    <div id=\"df-d2ba4566-fd00-4f51-a66c-f2da8aa5d523\">\n",
              "      <button class=\"colab-df-quickchart\" onclick=\"quickchart('df-d2ba4566-fd00-4f51-a66c-f2da8aa5d523')\"\n",
              "                title=\"Suggest charts\"\n",
              "                style=\"display:none;\">\n",
              "\n",
              "<svg xmlns=\"http://www.w3.org/2000/svg\" height=\"24px\"viewBox=\"0 0 24 24\"\n",
              "     width=\"24px\">\n",
              "    <g>\n",
              "        <path d=\"M19 3H5c-1.1 0-2 .9-2 2v14c0 1.1.9 2 2 2h14c1.1 0 2-.9 2-2V5c0-1.1-.9-2-2-2zM9 17H7v-7h2v7zm4 0h-2V7h2v10zm4 0h-2v-4h2v4z\"/>\n",
              "    </g>\n",
              "</svg>\n",
              "      </button>\n",
              "\n",
              "<style>\n",
              "  .colab-df-quickchart {\n",
              "      --bg-color: #E8F0FE;\n",
              "      --fill-color: #1967D2;\n",
              "      --hover-bg-color: #E2EBFA;\n",
              "      --hover-fill-color: #174EA6;\n",
              "      --disabled-fill-color: #AAA;\n",
              "      --disabled-bg-color: #DDD;\n",
              "  }\n",
              "\n",
              "  [theme=dark] .colab-df-quickchart {\n",
              "      --bg-color: #3B4455;\n",
              "      --fill-color: #D2E3FC;\n",
              "      --hover-bg-color: #434B5C;\n",
              "      --hover-fill-color: #FFFFFF;\n",
              "      --disabled-bg-color: #3B4455;\n",
              "      --disabled-fill-color: #666;\n",
              "  }\n",
              "\n",
              "  .colab-df-quickchart {\n",
              "    background-color: var(--bg-color);\n",
              "    border: none;\n",
              "    border-radius: 50%;\n",
              "    cursor: pointer;\n",
              "    display: none;\n",
              "    fill: var(--fill-color);\n",
              "    height: 32px;\n",
              "    padding: 0;\n",
              "    width: 32px;\n",
              "  }\n",
              "\n",
              "  .colab-df-quickchart:hover {\n",
              "    background-color: var(--hover-bg-color);\n",
              "    box-shadow: 0 1px 2px rgba(60, 64, 67, 0.3), 0 1px 3px 1px rgba(60, 64, 67, 0.15);\n",
              "    fill: var(--button-hover-fill-color);\n",
              "  }\n",
              "\n",
              "  .colab-df-quickchart-complete:disabled,\n",
              "  .colab-df-quickchart-complete:disabled:hover {\n",
              "    background-color: var(--disabled-bg-color);\n",
              "    fill: var(--disabled-fill-color);\n",
              "    box-shadow: none;\n",
              "  }\n",
              "\n",
              "  .colab-df-spinner {\n",
              "    border: 2px solid var(--fill-color);\n",
              "    border-color: transparent;\n",
              "    border-bottom-color: var(--fill-color);\n",
              "    animation:\n",
              "      spin 1s steps(1) infinite;\n",
              "  }\n",
              "\n",
              "  @keyframes spin {\n",
              "    0% {\n",
              "      border-color: transparent;\n",
              "      border-bottom-color: var(--fill-color);\n",
              "      border-left-color: var(--fill-color);\n",
              "    }\n",
              "    20% {\n",
              "      border-color: transparent;\n",
              "      border-left-color: var(--fill-color);\n",
              "      border-top-color: var(--fill-color);\n",
              "    }\n",
              "    30% {\n",
              "      border-color: transparent;\n",
              "      border-left-color: var(--fill-color);\n",
              "      border-top-color: var(--fill-color);\n",
              "      border-right-color: var(--fill-color);\n",
              "    }\n",
              "    40% {\n",
              "      border-color: transparent;\n",
              "      border-right-color: var(--fill-color);\n",
              "      border-top-color: var(--fill-color);\n",
              "    }\n",
              "    60% {\n",
              "      border-color: transparent;\n",
              "      border-right-color: var(--fill-color);\n",
              "    }\n",
              "    80% {\n",
              "      border-color: transparent;\n",
              "      border-right-color: var(--fill-color);\n",
              "      border-bottom-color: var(--fill-color);\n",
              "    }\n",
              "    90% {\n",
              "      border-color: transparent;\n",
              "      border-bottom-color: var(--fill-color);\n",
              "    }\n",
              "  }\n",
              "</style>\n",
              "\n",
              "      <script>\n",
              "        async function quickchart(key) {\n",
              "          const quickchartButtonEl =\n",
              "            document.querySelector('#' + key + ' button');\n",
              "          quickchartButtonEl.disabled = true;  // To prevent multiple clicks.\n",
              "          quickchartButtonEl.classList.add('colab-df-spinner');\n",
              "          try {\n",
              "            const charts = await google.colab.kernel.invokeFunction(\n",
              "                'suggestCharts', [key], {});\n",
              "          } catch (error) {\n",
              "            console.error('Error during call to suggestCharts:', error);\n",
              "          }\n",
              "          quickchartButtonEl.classList.remove('colab-df-spinner');\n",
              "          quickchartButtonEl.classList.add('colab-df-quickchart-complete');\n",
              "        }\n",
              "        (() => {\n",
              "          let quickchartButtonEl =\n",
              "            document.querySelector('#df-d2ba4566-fd00-4f51-a66c-f2da8aa5d523 button');\n",
              "          quickchartButtonEl.style.display =\n",
              "            google.colab.kernel.accessAllowed ? 'block' : 'none';\n",
              "        })();\n",
              "      </script>\n",
              "    </div>\n",
              "\n",
              "    </div>\n",
              "  </div>\n"
            ],
            "application/vnd.google.colaboratory.intrinsic+json": {
              "type": "dataframe",
              "variable_name": "df",
              "summary": "{\n  \"name\": \"df\",\n  \"rows\": 400,\n  \"fields\": [\n    {\n      \"column\": \"user_id\",\n      \"properties\": {\n        \"dtype\": \"string\",\n        \"num_unique_values\": 400,\n        \"samples\": [\n          \"U0210\",\n          \"U0281\",\n          \"U0034\"\n        ],\n        \"semantic_type\": \"\",\n        \"description\": \"\"\n      }\n    },\n    {\n      \"column\": \"age\",\n      \"properties\": {\n        \"dtype\": \"number\",\n        \"std\": 7,\n        \"min\": 16,\n        \"max\": 60,\n        \"num_unique_values\": 36,\n        \"samples\": [\n          43,\n          18,\n          45\n        ],\n        \"semantic_type\": \"\",\n        \"description\": \"\"\n      }\n    },\n    {\n      \"column\": \"gender\",\n      \"properties\": {\n        \"dtype\": \"category\",\n        \"num_unique_values\": 3,\n        \"samples\": [\n          \"Female\",\n          \"Male\",\n          \"Non-binary/Other\"\n        ],\n        \"semantic_type\": \"\",\n        \"description\": \"\"\n      }\n    },\n    {\n      \"column\": \"occupation\",\n      \"properties\": {\n        \"dtype\": \"category\",\n        \"num_unique_values\": 5,\n        \"samples\": [\n          \"Student\",\n          \"Unemployed\",\n          \"Self-employed\"\n        ],\n        \"semantic_type\": \"\",\n        \"description\": \"\"\n      }\n    },\n    {\n      \"column\": \"work_mode\",\n      \"properties\": {\n        \"dtype\": \"category\",\n        \"num_unique_values\": 3,\n        \"samples\": [\n          \"Remote\",\n          \"In-person\",\n          \"Hybrid\"\n        ],\n        \"semantic_type\": \"\",\n        \"description\": \"\"\n      }\n    },\n    {\n      \"column\": \"screen_time_hours\",\n      \"properties\": {\n        \"dtype\": \"number\",\n        \"std\": 2.491058393494521,\n        \"min\": 1.0,\n        \"max\": 19.17,\n        \"num_unique_values\": 314,\n        \"samples\": [\n          10.39,\n          11.38,\n          13.66\n        ],\n        \"semantic_type\": \"\",\n        \"description\": \"\"\n      }\n    },\n    {\n      \"column\": \"work_screen_hours\",\n      \"properties\": {\n        \"dtype\": \"number\",\n        \"std\": 1.9313207382150825,\n        \"min\": 0.11,\n        \"max\": 12.04,\n        \"num_unique_values\": 262,\n        \"samples\": [\n          4.81,\n          3.17,\n          6.2\n        ],\n        \"semantic_type\": \"\",\n        \"description\": \"\"\n      }\n    },\n    {\n      \"column\": \"leisure_screen_hours\",\n      \"properties\": {\n        \"dtype\": \"number\",\n        \"std\": 2.2208958474652114,\n        \"min\": 0.89,\n        \"max\": 13.35,\n        \"num_unique_values\": 316,\n        \"samples\": [\n          7.31,\n          12.4,\n          11.48\n        ],\n        \"semantic_type\": \"\",\n        \"description\": \"\"\n      }\n    },\n    {\n      \"column\": \"sleep_hours\",\n      \"properties\": {\n        \"dtype\": \"number\",\n        \"std\": 0.8524208012660638,\n        \"min\": 4.64,\n        \"max\": 9.74,\n        \"num_unique_values\": 230,\n        \"samples\": [\n          8.64,\n          7.26,\n          7.78\n        ],\n        \"semantic_type\": \"\",\n        \"description\": \"\"\n      }\n    },\n    {\n      \"column\": \"sleep_quality_1_5\",\n      \"properties\": {\n        \"dtype\": \"number\",\n        \"std\": 0,\n        \"min\": 1,\n        \"max\": 4,\n        \"num_unique_values\": 4,\n        \"samples\": [\n          3,\n          4,\n          1\n        ],\n        \"semantic_type\": \"\",\n        \"description\": \"\"\n      }\n    },\n    {\n      \"column\": \"stress_level_0_10\",\n      \"properties\": {\n        \"dtype\": \"number\",\n        \"std\": 2.094843831098566,\n        \"min\": 0.0,\n        \"max\": 10.0,\n        \"num_unique_values\": 73,\n        \"samples\": [\n          6.1,\n          3.5,\n          8.5\n        ],\n        \"semantic_type\": \"\",\n        \"description\": \"\"\n      }\n    },\n    {\n      \"column\": \"productivity_0_100\",\n      \"properties\": {\n        \"dtype\": \"number\",\n        \"std\": 15.020053687718793,\n        \"min\": 20.6,\n        \"max\": 100.0,\n        \"num_unique_values\": 276,\n        \"samples\": [\n          52.1,\n          73.6,\n          72.5\n        ],\n        \"semantic_type\": \"\",\n        \"description\": \"\"\n      }\n    },\n    {\n      \"column\": \"exercise_minutes_per_week\",\n      \"properties\": {\n        \"dtype\": \"number\",\n        \"std\": 70,\n        \"min\": 0,\n        \"max\": 372,\n        \"num_unique_values\": 196,\n        \"samples\": [\n          27,\n          176,\n          167\n        ],\n        \"semantic_type\": \"\",\n        \"description\": \"\"\n      }\n    },\n    {\n      \"column\": \"social_hours_per_week\",\n      \"properties\": {\n        \"dtype\": \"number\",\n        \"std\": 4.9096319837171984,\n        \"min\": 0.0,\n        \"max\": 23.9,\n        \"num_unique_values\": 159,\n        \"samples\": [\n          6.6,\n          11.7,\n          9.5\n        ],\n        \"semantic_type\": \"\",\n        \"description\": \"\"\n      }\n    },\n    {\n      \"column\": \"mental_wellness_index_0_100\",\n      \"properties\": {\n        \"dtype\": \"number\",\n        \"std\": 20.376793017344,\n        \"min\": 0.0,\n        \"max\": 97.0,\n        \"num_unique_values\": 263,\n        \"samples\": [\n          97.0,\n          59.8,\n          39.3\n        ],\n        \"semantic_type\": \"\",\n        \"description\": \"\"\n      }\n    },\n    {\n      \"column\": \"Unnamed: 15\",\n      \"properties\": {\n        \"dtype\": \"number\",\n        \"std\": null,\n        \"min\": null,\n        \"max\": null,\n        \"num_unique_values\": 0,\n        \"samples\": [],\n        \"semantic_type\": \"\",\n        \"description\": \"\"\n      }\n    }\n  ]\n}"
            }
          },
          "metadata": {},
          "execution_count": 6
        }
      ]
    },
    {
      "cell_type": "markdown",
      "source": [
        "#**Exploratory Data Analysis (EDA)**"
      ],
      "metadata": {
        "id": "lg--Yqj_1N0s"
      }
    },
    {
      "cell_type": "markdown",
      "source": [
        "Exploratory Data Analysis (EDA) was carried out to better understand the structure and characteristics of the dataset. This included examining distributions of key variables, identifying patterns and relationships through correlation analysis, and visualizing trends using plots. Box plots were used to detect outliers, while summary statistics highlighted central tendencies and variability. The EDA provided initial insights into how factors such as screen time, sleep, and stress relate to mental wellness, and guided the selection of appropriate statistical methods and predictive models for further analysis."
      ],
      "metadata": {
        "id": "NZi1H6otNPTt"
      }
    },
    {
      "cell_type": "markdown",
      "source": [
        "###**Check dataset shape & info**"
      ],
      "metadata": {
        "id": "zsC1dfMduvM0"
      }
    },
    {
      "cell_type": "code",
      "source": [
        "df.shape       # rows, columns\n",
        "df.info()      # column types + non-null counts"
      ],
      "metadata": {
        "colab": {
          "base_uri": "https://localhost:8080/"
        },
        "id": "sH1XoYDDuuZ1",
        "outputId": "dbaff153-2b77-4b5a-d343-ddad974e774b"
      },
      "execution_count": null,
      "outputs": [
        {
          "output_type": "stream",
          "name": "stdout",
          "text": [
            "<class 'pandas.core.frame.DataFrame'>\n",
            "RangeIndex: 400 entries, 0 to 399\n",
            "Data columns (total 16 columns):\n",
            " #   Column                       Non-Null Count  Dtype  \n",
            "---  ------                       --------------  -----  \n",
            " 0   user_id                      400 non-null    object \n",
            " 1   age                          400 non-null    int64  \n",
            " 2   gender                       400 non-null    object \n",
            " 3   occupation                   400 non-null    object \n",
            " 4   work_mode                    400 non-null    object \n",
            " 5   screen_time_hours            400 non-null    float64\n",
            " 6   work_screen_hours            400 non-null    float64\n",
            " 7   leisure_screen_hours         400 non-null    float64\n",
            " 8   sleep_hours                  400 non-null    float64\n",
            " 9   sleep_quality_1_5            400 non-null    int64  \n",
            " 10  stress_level_0_10            400 non-null    float64\n",
            " 11  productivity_0_100           400 non-null    float64\n",
            " 12  exercise_minutes_per_week    400 non-null    int64  \n",
            " 13  social_hours_per_week        400 non-null    float64\n",
            " 14  mental_wellness_index_0_100  400 non-null    float64\n",
            " 15  Unnamed: 15                  0 non-null      float64\n",
            "dtypes: float64(9), int64(3), object(4)\n",
            "memory usage: 50.1+ KB\n"
          ]
        }
      ]
    },
    {
      "cell_type": "markdown",
      "source": [
        "The dataset’s shape and structure to understand its dimensions and variable types. The dataset contains 400 observations across 16 columns, including demographic, lifestyle, and mental wellness variables. Most columns are complete with no missing values, except for Unnamed: 15, which contains only null entries and can be safely removed. This step ensured clarity on the data types and readiness for further analysis."
      ],
      "metadata": {
        "id": "zax0-QSZJL_3"
      }
    },
    {
      "cell_type": "markdown",
      "source": [
        "###**Remove the extra column (Unnamed: 15)**"
      ],
      "metadata": {
        "id": "mtRaOeVpvCBE"
      }
    },
    {
      "cell_type": "code",
      "source": [
        "df = df.drop(columns=['Unnamed: 15'], errors='ignore')"
      ],
      "metadata": {
        "id": "huLlrmw8u1jI"
      },
      "execution_count": null,
      "outputs": []
    },
    {
      "cell_type": "markdown",
      "source": [
        "###**Descriptive statistics**"
      ],
      "metadata": {
        "id": "9F4paCcrvZMn"
      }
    },
    {
      "cell_type": "code",
      "source": [
        "df.describe().T   # transpose for easier reading"
      ],
      "metadata": {
        "colab": {
          "base_uri": "https://localhost:8080/",
          "height": 394
        },
        "id": "P-LJ7Iaa8oIT",
        "outputId": "60645d7f-1643-45a1-c74e-4d6dc293eb7c"
      },
      "execution_count": null,
      "outputs": [
        {
          "output_type": "execute_result",
          "data": {
            "text/plain": [
              "                             count        mean        std    min      25%  \\\n",
              "age                          400.0   29.777500   7.466080  16.00  24.0000   \n",
              "screen_time_hours            400.0    9.024900   2.491058   1.00   7.3725   \n",
              "work_screen_hours            400.0    2.183075   1.931321   0.11   0.6950   \n",
              "leisure_screen_hours         400.0    6.841825   2.220896   0.89   5.4600   \n",
              "sleep_hours                  400.0    7.013175   0.852421   4.64   6.3975   \n",
              "sleep_quality_1_5            400.0    1.397500   0.652348   1.00   1.0000   \n",
              "stress_level_0_10            400.0    8.150500   2.094844   0.00   6.9000   \n",
              "productivity_0_100           400.0   54.306500  15.020054  20.60  43.6000   \n",
              "exercise_minutes_per_week    400.0  109.810000  70.007045   0.00  58.0000   \n",
              "social_hours_per_week        400.0    7.905000   4.909632   0.00   4.5750   \n",
              "mental_wellness_index_0_100  400.0   20.326750  20.376793   0.00   3.6750   \n",
              "\n",
              "                                 50%       75%     max  \n",
              "age                           30.000   35.0000   60.00  \n",
              "screen_time_hours              9.090   10.4950   19.17  \n",
              "work_screen_hours              1.455    3.0125   12.04  \n",
              "leisure_screen_hours           6.700    8.4175   13.35  \n",
              "sleep_hours                    7.030    7.6400    9.74  \n",
              "sleep_quality_1_5              1.000    2.0000    4.00  \n",
              "stress_level_0_10              8.800   10.0000   10.00  \n",
              "productivity_0_100            51.750   63.0000  100.00  \n",
              "exercise_minutes_per_week    103.000  157.0000  372.00  \n",
              "social_hours_per_week          7.750   11.0250   23.90  \n",
              "mental_wellness_index_0_100   14.800   30.6500   97.00  "
            ],
            "text/html": [
              "\n",
              "  <div id=\"df-065a504d-6d89-4bbe-894b-eb978e1d0982\" class=\"colab-df-container\">\n",
              "    <div>\n",
              "<style scoped>\n",
              "    .dataframe tbody tr th:only-of-type {\n",
              "        vertical-align: middle;\n",
              "    }\n",
              "\n",
              "    .dataframe tbody tr th {\n",
              "        vertical-align: top;\n",
              "    }\n",
              "\n",
              "    .dataframe thead th {\n",
              "        text-align: right;\n",
              "    }\n",
              "</style>\n",
              "<table border=\"1\" class=\"dataframe\">\n",
              "  <thead>\n",
              "    <tr style=\"text-align: right;\">\n",
              "      <th></th>\n",
              "      <th>count</th>\n",
              "      <th>mean</th>\n",
              "      <th>std</th>\n",
              "      <th>min</th>\n",
              "      <th>25%</th>\n",
              "      <th>50%</th>\n",
              "      <th>75%</th>\n",
              "      <th>max</th>\n",
              "    </tr>\n",
              "  </thead>\n",
              "  <tbody>\n",
              "    <tr>\n",
              "      <th>age</th>\n",
              "      <td>400.0</td>\n",
              "      <td>29.777500</td>\n",
              "      <td>7.466080</td>\n",
              "      <td>16.00</td>\n",
              "      <td>24.0000</td>\n",
              "      <td>30.000</td>\n",
              "      <td>35.0000</td>\n",
              "      <td>60.00</td>\n",
              "    </tr>\n",
              "    <tr>\n",
              "      <th>screen_time_hours</th>\n",
              "      <td>400.0</td>\n",
              "      <td>9.024900</td>\n",
              "      <td>2.491058</td>\n",
              "      <td>1.00</td>\n",
              "      <td>7.3725</td>\n",
              "      <td>9.090</td>\n",
              "      <td>10.4950</td>\n",
              "      <td>19.17</td>\n",
              "    </tr>\n",
              "    <tr>\n",
              "      <th>work_screen_hours</th>\n",
              "      <td>400.0</td>\n",
              "      <td>2.183075</td>\n",
              "      <td>1.931321</td>\n",
              "      <td>0.11</td>\n",
              "      <td>0.6950</td>\n",
              "      <td>1.455</td>\n",
              "      <td>3.0125</td>\n",
              "      <td>12.04</td>\n",
              "    </tr>\n",
              "    <tr>\n",
              "      <th>leisure_screen_hours</th>\n",
              "      <td>400.0</td>\n",
              "      <td>6.841825</td>\n",
              "      <td>2.220896</td>\n",
              "      <td>0.89</td>\n",
              "      <td>5.4600</td>\n",
              "      <td>6.700</td>\n",
              "      <td>8.4175</td>\n",
              "      <td>13.35</td>\n",
              "    </tr>\n",
              "    <tr>\n",
              "      <th>sleep_hours</th>\n",
              "      <td>400.0</td>\n",
              "      <td>7.013175</td>\n",
              "      <td>0.852421</td>\n",
              "      <td>4.64</td>\n",
              "      <td>6.3975</td>\n",
              "      <td>7.030</td>\n",
              "      <td>7.6400</td>\n",
              "      <td>9.74</td>\n",
              "    </tr>\n",
              "    <tr>\n",
              "      <th>sleep_quality_1_5</th>\n",
              "      <td>400.0</td>\n",
              "      <td>1.397500</td>\n",
              "      <td>0.652348</td>\n",
              "      <td>1.00</td>\n",
              "      <td>1.0000</td>\n",
              "      <td>1.000</td>\n",
              "      <td>2.0000</td>\n",
              "      <td>4.00</td>\n",
              "    </tr>\n",
              "    <tr>\n",
              "      <th>stress_level_0_10</th>\n",
              "      <td>400.0</td>\n",
              "      <td>8.150500</td>\n",
              "      <td>2.094844</td>\n",
              "      <td>0.00</td>\n",
              "      <td>6.9000</td>\n",
              "      <td>8.800</td>\n",
              "      <td>10.0000</td>\n",
              "      <td>10.00</td>\n",
              "    </tr>\n",
              "    <tr>\n",
              "      <th>productivity_0_100</th>\n",
              "      <td>400.0</td>\n",
              "      <td>54.306500</td>\n",
              "      <td>15.020054</td>\n",
              "      <td>20.60</td>\n",
              "      <td>43.6000</td>\n",
              "      <td>51.750</td>\n",
              "      <td>63.0000</td>\n",
              "      <td>100.00</td>\n",
              "    </tr>\n",
              "    <tr>\n",
              "      <th>exercise_minutes_per_week</th>\n",
              "      <td>400.0</td>\n",
              "      <td>109.810000</td>\n",
              "      <td>70.007045</td>\n",
              "      <td>0.00</td>\n",
              "      <td>58.0000</td>\n",
              "      <td>103.000</td>\n",
              "      <td>157.0000</td>\n",
              "      <td>372.00</td>\n",
              "    </tr>\n",
              "    <tr>\n",
              "      <th>social_hours_per_week</th>\n",
              "      <td>400.0</td>\n",
              "      <td>7.905000</td>\n",
              "      <td>4.909632</td>\n",
              "      <td>0.00</td>\n",
              "      <td>4.5750</td>\n",
              "      <td>7.750</td>\n",
              "      <td>11.0250</td>\n",
              "      <td>23.90</td>\n",
              "    </tr>\n",
              "    <tr>\n",
              "      <th>mental_wellness_index_0_100</th>\n",
              "      <td>400.0</td>\n",
              "      <td>20.326750</td>\n",
              "      <td>20.376793</td>\n",
              "      <td>0.00</td>\n",
              "      <td>3.6750</td>\n",
              "      <td>14.800</td>\n",
              "      <td>30.6500</td>\n",
              "      <td>97.00</td>\n",
              "    </tr>\n",
              "  </tbody>\n",
              "</table>\n",
              "</div>\n",
              "    <div class=\"colab-df-buttons\">\n",
              "\n",
              "  <div class=\"colab-df-container\">\n",
              "    <button class=\"colab-df-convert\" onclick=\"convertToInteractive('df-065a504d-6d89-4bbe-894b-eb978e1d0982')\"\n",
              "            title=\"Convert this dataframe to an interactive table.\"\n",
              "            style=\"display:none;\">\n",
              "\n",
              "  <svg xmlns=\"http://www.w3.org/2000/svg\" height=\"24px\" viewBox=\"0 -960 960 960\">\n",
              "    <path d=\"M120-120v-720h720v720H120Zm60-500h600v-160H180v160Zm220 220h160v-160H400v160Zm0 220h160v-160H400v160ZM180-400h160v-160H180v160Zm440 0h160v-160H620v160ZM180-180h160v-160H180v160Zm440 0h160v-160H620v160Z\"/>\n",
              "  </svg>\n",
              "    </button>\n",
              "\n",
              "  <style>\n",
              "    .colab-df-container {\n",
              "      display:flex;\n",
              "      gap: 12px;\n",
              "    }\n",
              "\n",
              "    .colab-df-convert {\n",
              "      background-color: #E8F0FE;\n",
              "      border: none;\n",
              "      border-radius: 50%;\n",
              "      cursor: pointer;\n",
              "      display: none;\n",
              "      fill: #1967D2;\n",
              "      height: 32px;\n",
              "      padding: 0 0 0 0;\n",
              "      width: 32px;\n",
              "    }\n",
              "\n",
              "    .colab-df-convert:hover {\n",
              "      background-color: #E2EBFA;\n",
              "      box-shadow: 0px 1px 2px rgba(60, 64, 67, 0.3), 0px 1px 3px 1px rgba(60, 64, 67, 0.15);\n",
              "      fill: #174EA6;\n",
              "    }\n",
              "\n",
              "    .colab-df-buttons div {\n",
              "      margin-bottom: 4px;\n",
              "    }\n",
              "\n",
              "    [theme=dark] .colab-df-convert {\n",
              "      background-color: #3B4455;\n",
              "      fill: #D2E3FC;\n",
              "    }\n",
              "\n",
              "    [theme=dark] .colab-df-convert:hover {\n",
              "      background-color: #434B5C;\n",
              "      box-shadow: 0px 1px 3px 1px rgba(0, 0, 0, 0.15);\n",
              "      filter: drop-shadow(0px 1px 2px rgba(0, 0, 0, 0.3));\n",
              "      fill: #FFFFFF;\n",
              "    }\n",
              "  </style>\n",
              "\n",
              "    <script>\n",
              "      const buttonEl =\n",
              "        document.querySelector('#df-065a504d-6d89-4bbe-894b-eb978e1d0982 button.colab-df-convert');\n",
              "      buttonEl.style.display =\n",
              "        google.colab.kernel.accessAllowed ? 'block' : 'none';\n",
              "\n",
              "      async function convertToInteractive(key) {\n",
              "        const element = document.querySelector('#df-065a504d-6d89-4bbe-894b-eb978e1d0982');\n",
              "        const dataTable =\n",
              "          await google.colab.kernel.invokeFunction('convertToInteractive',\n",
              "                                                    [key], {});\n",
              "        if (!dataTable) return;\n",
              "\n",
              "        const docLinkHtml = 'Like what you see? Visit the ' +\n",
              "          '<a target=\"_blank\" href=https://colab.research.google.com/notebooks/data_table.ipynb>data table notebook</a>'\n",
              "          + ' to learn more about interactive tables.';\n",
              "        element.innerHTML = '';\n",
              "        dataTable['output_type'] = 'display_data';\n",
              "        await google.colab.output.renderOutput(dataTable, element);\n",
              "        const docLink = document.createElement('div');\n",
              "        docLink.innerHTML = docLinkHtml;\n",
              "        element.appendChild(docLink);\n",
              "      }\n",
              "    </script>\n",
              "  </div>\n",
              "\n",
              "\n",
              "    <div id=\"df-56a6ad6e-066e-4d2d-9959-c3b49f792c96\">\n",
              "      <button class=\"colab-df-quickchart\" onclick=\"quickchart('df-56a6ad6e-066e-4d2d-9959-c3b49f792c96')\"\n",
              "                title=\"Suggest charts\"\n",
              "                style=\"display:none;\">\n",
              "\n",
              "<svg xmlns=\"http://www.w3.org/2000/svg\" height=\"24px\"viewBox=\"0 0 24 24\"\n",
              "     width=\"24px\">\n",
              "    <g>\n",
              "        <path d=\"M19 3H5c-1.1 0-2 .9-2 2v14c0 1.1.9 2 2 2h14c1.1 0 2-.9 2-2V5c0-1.1-.9-2-2-2zM9 17H7v-7h2v7zm4 0h-2V7h2v10zm4 0h-2v-4h2v4z\"/>\n",
              "    </g>\n",
              "</svg>\n",
              "      </button>\n",
              "\n",
              "<style>\n",
              "  .colab-df-quickchart {\n",
              "      --bg-color: #E8F0FE;\n",
              "      --fill-color: #1967D2;\n",
              "      --hover-bg-color: #E2EBFA;\n",
              "      --hover-fill-color: #174EA6;\n",
              "      --disabled-fill-color: #AAA;\n",
              "      --disabled-bg-color: #DDD;\n",
              "  }\n",
              "\n",
              "  [theme=dark] .colab-df-quickchart {\n",
              "      --bg-color: #3B4455;\n",
              "      --fill-color: #D2E3FC;\n",
              "      --hover-bg-color: #434B5C;\n",
              "      --hover-fill-color: #FFFFFF;\n",
              "      --disabled-bg-color: #3B4455;\n",
              "      --disabled-fill-color: #666;\n",
              "  }\n",
              "\n",
              "  .colab-df-quickchart {\n",
              "    background-color: var(--bg-color);\n",
              "    border: none;\n",
              "    border-radius: 50%;\n",
              "    cursor: pointer;\n",
              "    display: none;\n",
              "    fill: var(--fill-color);\n",
              "    height: 32px;\n",
              "    padding: 0;\n",
              "    width: 32px;\n",
              "  }\n",
              "\n",
              "  .colab-df-quickchart:hover {\n",
              "    background-color: var(--hover-bg-color);\n",
              "    box-shadow: 0 1px 2px rgba(60, 64, 67, 0.3), 0 1px 3px 1px rgba(60, 64, 67, 0.15);\n",
              "    fill: var(--button-hover-fill-color);\n",
              "  }\n",
              "\n",
              "  .colab-df-quickchart-complete:disabled,\n",
              "  .colab-df-quickchart-complete:disabled:hover {\n",
              "    background-color: var(--disabled-bg-color);\n",
              "    fill: var(--disabled-fill-color);\n",
              "    box-shadow: none;\n",
              "  }\n",
              "\n",
              "  .colab-df-spinner {\n",
              "    border: 2px solid var(--fill-color);\n",
              "    border-color: transparent;\n",
              "    border-bottom-color: var(--fill-color);\n",
              "    animation:\n",
              "      spin 1s steps(1) infinite;\n",
              "  }\n",
              "\n",
              "  @keyframes spin {\n",
              "    0% {\n",
              "      border-color: transparent;\n",
              "      border-bottom-color: var(--fill-color);\n",
              "      border-left-color: var(--fill-color);\n",
              "    }\n",
              "    20% {\n",
              "      border-color: transparent;\n",
              "      border-left-color: var(--fill-color);\n",
              "      border-top-color: var(--fill-color);\n",
              "    }\n",
              "    30% {\n",
              "      border-color: transparent;\n",
              "      border-left-color: var(--fill-color);\n",
              "      border-top-color: var(--fill-color);\n",
              "      border-right-color: var(--fill-color);\n",
              "    }\n",
              "    40% {\n",
              "      border-color: transparent;\n",
              "      border-right-color: var(--fill-color);\n",
              "      border-top-color: var(--fill-color);\n",
              "    }\n",
              "    60% {\n",
              "      border-color: transparent;\n",
              "      border-right-color: var(--fill-color);\n",
              "    }\n",
              "    80% {\n",
              "      border-color: transparent;\n",
              "      border-right-color: var(--fill-color);\n",
              "      border-bottom-color: var(--fill-color);\n",
              "    }\n",
              "    90% {\n",
              "      border-color: transparent;\n",
              "      border-bottom-color: var(--fill-color);\n",
              "    }\n",
              "  }\n",
              "</style>\n",
              "\n",
              "      <script>\n",
              "        async function quickchart(key) {\n",
              "          const quickchartButtonEl =\n",
              "            document.querySelector('#' + key + ' button');\n",
              "          quickchartButtonEl.disabled = true;  // To prevent multiple clicks.\n",
              "          quickchartButtonEl.classList.add('colab-df-spinner');\n",
              "          try {\n",
              "            const charts = await google.colab.kernel.invokeFunction(\n",
              "                'suggestCharts', [key], {});\n",
              "          } catch (error) {\n",
              "            console.error('Error during call to suggestCharts:', error);\n",
              "          }\n",
              "          quickchartButtonEl.classList.remove('colab-df-spinner');\n",
              "          quickchartButtonEl.classList.add('colab-df-quickchart-complete');\n",
              "        }\n",
              "        (() => {\n",
              "          let quickchartButtonEl =\n",
              "            document.querySelector('#df-56a6ad6e-066e-4d2d-9959-c3b49f792c96 button');\n",
              "          quickchartButtonEl.style.display =\n",
              "            google.colab.kernel.accessAllowed ? 'block' : 'none';\n",
              "        })();\n",
              "      </script>\n",
              "    </div>\n",
              "\n",
              "    </div>\n",
              "  </div>\n"
            ],
            "application/vnd.google.colaboratory.intrinsic+json": {
              "type": "dataframe",
              "summary": "{\n  \"name\": \"df\",\n  \"rows\": 11,\n  \"fields\": [\n    {\n      \"column\": \"count\",\n      \"properties\": {\n        \"dtype\": \"number\",\n        \"std\": 0.0,\n        \"min\": 400.0,\n        \"max\": 400.0,\n        \"num_unique_values\": 1,\n        \"samples\": [\n          400.0\n        ],\n        \"semantic_type\": \"\",\n        \"description\": \"\"\n      }\n    },\n    {\n      \"column\": \"mean\",\n      \"properties\": {\n        \"dtype\": \"number\",\n        \"std\": 32.60096946559154,\n        \"min\": 1.3975,\n        \"max\": 109.81,\n        \"num_unique_values\": 11,\n        \"samples\": [\n          1.3975\n        ],\n        \"semantic_type\": \"\",\n        \"description\": \"\"\n      }\n    },\n    {\n      \"column\": \"std\",\n      \"properties\": {\n        \"dtype\": \"number\",\n        \"std\": 20.376651309896925,\n        \"min\": 0.6523477938264801,\n        \"max\": 70.00704511629377,\n        \"num_unique_values\": 11,\n        \"samples\": [\n          0.6523477938264801\n        ],\n        \"semantic_type\": \"\",\n        \"description\": \"\"\n      }\n    },\n    {\n      \"column\": \"min\",\n      \"properties\": {\n        \"dtype\": \"number\",\n        \"std\": 7.2578823608292495,\n        \"min\": 0.0,\n        \"max\": 20.6,\n        \"num_unique_values\": 7,\n        \"samples\": [\n          16.0\n        ],\n        \"semantic_type\": \"\",\n        \"description\": \"\"\n      }\n    },\n    {\n      \"column\": \"25%\",\n      \"properties\": {\n        \"dtype\": \"number\",\n        \"std\": 19.165927007796462,\n        \"min\": 0.695,\n        \"max\": 58.0,\n        \"num_unique_values\": 11,\n        \"samples\": [\n          1.0\n        ],\n        \"semantic_type\": \"\",\n        \"description\": \"\"\n      }\n    },\n    {\n      \"column\": \"50%\",\n      \"properties\": {\n        \"dtype\": \"number\",\n        \"std\": 30.703624401096953,\n        \"min\": 1.0,\n        \"max\": 103.0,\n        \"num_unique_values\": 11,\n        \"samples\": [\n          1.0\n        ],\n        \"semantic_type\": \"\",\n        \"description\": \"\"\n      }\n    },\n    {\n      \"column\": \"75%\",\n      \"properties\": {\n        \"dtype\": \"number\",\n        \"std\": 45.66819977118551,\n        \"min\": 2.0,\n        \"max\": 157.0,\n        \"num_unique_values\": 11,\n        \"samples\": [\n          2.0\n        ],\n        \"semantic_type\": \"\",\n        \"description\": \"\"\n      }\n    },\n    {\n      \"column\": \"max\",\n      \"properties\": {\n        \"dtype\": \"number\",\n        \"std\": 107.50872339235802,\n        \"min\": 4.0,\n        \"max\": 372.0,\n        \"num_unique_values\": 11,\n        \"samples\": [\n          4.0\n        ],\n        \"semantic_type\": \"\",\n        \"description\": \"\"\n      }\n    }\n  ]\n}"
            }
          },
          "metadata": {},
          "execution_count": 10
        }
      ]
    },
    {
      "cell_type": "markdown",
      "source": [
        "The dataset consists of 400 individuals with an average age of about 30 years, ranging from 16 to 60. On average, participants reported 9 hours of daily screen time, with most of it attributed to leisure activities (≈6.8 hours) and less to work (≈2.2 hours). Sleep duration averaged about 7 hours per night, though sleep quality ratings were generally low, clustered around 1 on a 1–5 scale.\n",
        "\n",
        "Stress levels were relatively high, averaging 8.15 out of 10, while productivity scores averaged 54 out of 100, showing moderate work performance across the sample. Participants exercised for around 110 minutes per week on average, though this varied widely, and engaged in roughly 8 hours of social activity per week.\n",
        "\n",
        "Finally, the mental wellness index averaged only 20 out of 100, with a wide spread (SD ≈ 20), indicating that many participants scored low on wellness, though a few reached high values close to 97."
      ],
      "metadata": {
        "id": "ZcW1TvlpJZVT"
      }
    },
    {
      "cell_type": "markdown",
      "source": [
        "###***Variables of Interest***"
      ],
      "metadata": {
        "id": "JHRZ3XOx30-l"
      }
    },
    {
      "cell_type": "markdown",
      "source": [
        "screen_time_hours = overall daily screen use\n",
        "\n",
        "sleep_hours = rest & recovery\n",
        "\n",
        "mental_wellness_index_0_100 = overall wellness score"
      ],
      "metadata": {
        "id": "ZwMRwv8T36O7"
      }
    },
    {
      "cell_type": "code",
      "source": [
        "vars_of_interest = ['screen_time_hours', 'sleep_hours', 'mental_wellness_index_0_100']"
      ],
      "metadata": {
        "id": "A3oRl4Mx320S"
      },
      "execution_count": null,
      "outputs": []
    },
    {
      "cell_type": "markdown",
      "source": [
        "##**Box Plot for Detecting Outliers**"
      ],
      "metadata": {
        "id": "7NAsGOug4DbD"
      }
    },
    {
      "cell_type": "markdown",
      "source": [
        "The box plots provided a visual summary of variable distributions and highlighted the presence of outliers."
      ],
      "metadata": {
        "id": "6WMEDg37NrMU"
      }
    },
    {
      "cell_type": "code",
      "source": [
        "plt.figure(figsize=(12,6))\n",
        "\n",
        "for i, col in enumerate(vars_of_interest, 1):\n",
        "    plt.subplot(1, 3, i)  # 1 row, 3 columns\n",
        "    sns.boxplot(y=df[col], color=\"lightgreen\")\n",
        "    plt.title(f'Boxplot of {col}')\n",
        "\n",
        "plt.tight_layout()\n",
        "plt.show()"
      ],
      "metadata": {
        "colab": {
          "base_uri": "https://localhost:8080/",
          "height": 607
        },
        "id": "n9Piq-7w4Hwf",
        "outputId": "e3209f93-78d2-4882-fc99-dba3b757ab54"
      },
      "execution_count": null,
      "outputs": [
        {
          "output_type": "display_data",
          "data": {
            "text/plain": [
              "<Figure size 1200x600 with 3 Axes>"
            ],
            "image/png": "[encoded data removed]"
          },
          "metadata": {}
        }
      ]
    },
    {
      "cell_type": "markdown",
      "source": [
        "For variables such as screen time hours, sleep hours, and mental wellness index, most data points fell within the interquartile range, but several individual values extended beyond the whiskers. These extreme points represent potential outliers — for example, unusually high screen time, very low sleep duration, or exceptionally high wellness scores compared to the majority of participants. The detection of such outliers is important, as they may represent data entry errors, unique cases, or individuals with extreme behaviors that could disproportionately influence statistical results and model performance."
      ],
      "metadata": {
        "id": "0-aHve8oJsMd"
      }
    },
    {
      "cell_type": "markdown",
      "source": [
        "#**Removing Outliers**"
      ],
      "metadata": {
        "id": "MwNChSij5ZRM"
      }
    },
    {
      "cell_type": "markdown",
      "source": [
        "Outliers detected in variables such as screen time, sleep hours, and mental wellness were removed using the interquartile range method to ensure cleaner distributions and more reliable analysis results."
      ],
      "metadata": {
        "id": "XxbuUw85NzoK"
      }
    },
    {
      "cell_type": "code",
      "source": [
        "def remove_outliers_iqr(data, column):\n",
        "    Q1 = data[column].quantile(0.25)\n",
        "    Q3 = data[column].quantile(0.75)\n",
        "    IQR = Q3 - Q1\n",
        "    lower_bound = Q1 - 1.5 * IQR\n",
        "    upper_bound = Q3 + 1.5 * IQR\n",
        "\n",
        "    # Keep only non-outliers\n",
        "    cleaned = data[(data[column] >= lower_bound) & (data[column] <= upper_bound)]\n",
        "    return cleaned\n"
      ],
      "metadata": {
        "id": "GfgctBMJ46Gw"
      },
      "execution_count": null,
      "outputs": []
    },
    {
      "cell_type": "code",
      "source": [
        "variables = ['screen_time_hours', 'sleep_hours', 'mental_wellness_index_0_100']\n",
        "\n",
        "df_clean = df.copy()\n",
        "for col in variables:\n",
        "    df_clean = remove_outliers_iqr(df_clean, col)\n",
        "\n",
        "print(\"Original shape:\", df.shape)\n",
        "print(\"After removing outliers:\", df_clean.shape)\n"
      ],
      "metadata": {
        "colab": {
          "base_uri": "https://localhost:8080/"
        },
        "id": "TxOlBUhT5ODT",
        "outputId": "4bf9eda5-1e47-4e21-8e4f-19e69ba283fb"
      },
      "execution_count": null,
      "outputs": [
        {
          "output_type": "stream",
          "name": "stdout",
          "text": [
            "Original shape: (400, 15)\n",
            "After removing outliers: (383, 15)\n"
          ]
        }
      ]
    },
    {
      "cell_type": "code",
      "source": [
        "import matplotlib.pyplot as plt\n",
        "import seaborn as sns\n",
        "\n",
        "plt.figure(figsize=(12,6))\n",
        "for i, col in enumerate(variables, 1):\n",
        "    plt.subplot(1, 3, i)\n",
        "    sns.boxplot(y=df_clean[col], color=\"lightblue\")\n",
        "    plt.title(f'After Removing Outliers: {col}')\n",
        "\n",
        "plt.tight_layout()\n",
        "plt.show()"
      ],
      "metadata": {
        "colab": {
          "base_uri": "https://localhost:8080/",
          "height": 607
        },
        "id": "hXI-odBq5U9y",
        "outputId": "25a2e806-5d16-4a17-d803-e0a8769c1d46"
      },
      "execution_count": null,
      "outputs": [
        {
          "output_type": "display_data",
          "data": {
            "text/plain": [
              "<Figure size 1200x600 with 3 Axes>"
            ],
            "image/png": "[encoded data removed]"
          },
          "metadata": {}
        }
      ]
    },
    {
      "cell_type": "markdown",
      "source": [
        "After removing the outliers identified in the box plots, the dataset became more consistent and representative of the majority of participants. Extreme values that previously skewed the distribution of variables such as screen time, sleep hours, and mental wellness index were eliminated, resulting in smoother distributions and more reliable central tendencies. This step reduces the risk of distortion in statistical tests and predictive models, allowing for clearer insights into the general patterns of behavior and wellness in the population. However, it also means that some unique cases have been excluded, so findings now reflect typical trends rather than extreme scenarios."
      ],
      "metadata": {
        "id": "KNVRXUgxJ6lO"
      }
    },
    {
      "cell_type": "markdown",
      "source": [
        "#**Correlation Analysis**"
      ],
      "metadata": {
        "id": "XcX949rCwaD_"
      }
    },
    {
      "cell_type": "markdown",
      "source": [
        "To explore the relationships between key variables, a correlation analysis was performed. This helped identify how factors such as screen time, sleep, and mental wellness are interlinked, providing insights into both positive and negative associations within the dataset."
      ],
      "metadata": {
        "id": "DxjvIFUaN9Yg"
      }
    },
    {
      "cell_type": "code",
      "source": [
        "corr = df[vars_of_interest].corr()"
      ],
      "metadata": {
        "id": "FSdH0i0cwvbH"
      },
      "execution_count": null,
      "outputs": []
    },
    {
      "cell_type": "markdown",
      "source": [
        "###***Heatmap***"
      ],
      "metadata": {
        "id": "zqtjYITPxOgx"
      }
    },
    {
      "cell_type": "markdown",
      "source": [
        "A correlation heatmap was created to visually represent the strength of relationships among variables. The color gradients made it easier to identify strong positive and negative correlations, such as the negative link between screen time and mental wellness, and the positive association between sleep duration and wellness. This visualization provided a clear overview of interdependencies across the dataset."
      ],
      "metadata": {
        "id": "QVybOob4OEtQ"
      }
    },
    {
      "cell_type": "code",
      "source": [
        "plt.figure(figsize=(6,4))\n",
        "sns.heatmap(corr, annot=True, cmap=\"coolwarm\", fmt=\".2f\")\n",
        "plt.title(\"Correlation: Screen Time, Sleep, Mental Wellness\")\n",
        "plt.show()"
      ],
      "metadata": {
        "colab": {
          "base_uri": "https://localhost:8080/",
          "height": 586
        },
        "id": "rFMuN8oFxCz2",
        "outputId": "6b949c1d-8dce-4708-fe0e-a1d996f5e6e1"
      },
      "execution_count": null,
      "outputs": [
        {
          "output_type": "display_data",
          "data": {
            "text/plain": [
              "<Figure size 600x400 with 2 Axes>"
            ],
            "image/png": "[encoded data removed]"
          },
          "metadata": {}
        }
      ]
    },
    {
      "cell_type": "markdown",
      "source": [
        "The heatmap shows three key insights:\n",
        "\n",
        "1. Screen time vs. mental wellness: Strong negative correlation (-0.64). Higher screen time is linked to poorer mental wellness.\n",
        "\n",
        "2. Sleep vs. mental wellness: Moderate positive correlation (0.58). More sleep is associated with better mental wellness.\n",
        "\n",
        "3. Screen time vs. sleep: Weak-to-moderate negative correlation (-0.33). More screen time tends to reduce sleep hours.\n",
        "\n",
        "Overall, higher screen time appears harmful for both sleep and mental wellness, while sleep supports better mental health."
      ],
      "metadata": {
        "id": "t2No7af42bRx"
      }
    },
    {
      "cell_type": "markdown",
      "source": [
        "#**Regression Analysis**"
      ],
      "metadata": {
        "id": "LHISKU3XxuXd"
      }
    },
    {
      "cell_type": "markdown",
      "source": [
        "To further investigate the impact of lifestyle factors on mental wellness, a regression analysis was performed. This approach allowed us to quantify how variables such as screen time and sleep contribute to predicting mental wellness outcomes.\n",
        "\n",
        "Dependent (Y): mental_wellness_index_0_100\n",
        "\n",
        "Independent (X): screen_time_hours, sleep_hours\n"
      ],
      "metadata": {
        "id": "-d0cyl4_xz9u"
      }
    },
    {
      "cell_type": "code",
      "source": [
        "import statsmodels.api as sm\n",
        "\n",
        "# Select predictors (independent variables)\n",
        "X = df[['screen_time_hours', 'sleep_hours']]\n",
        "\n",
        "# Dependent variable\n",
        "y = df['mental_wellness_index_0_100']\n",
        "\n",
        "# Add constant for intercept\n",
        "X = sm.add_constant(X)\n",
        "\n",
        "# Build regression model\n",
        "model = sm.OLS(y, X).fit()\n",
        "\n",
        "# Show summary\n",
        "print(model.summary())\n"
      ],
      "metadata": {
        "colab": {
          "base_uri": "https://localhost:8080/"
        },
        "id": "KQxspZVsxyEc",
        "outputId": "f778995e-a4d1-49b1-884c-50ea330f808d"
      },
      "execution_count": null,
      "outputs": [
        {
          "output_type": "stream",
          "name": "stdout",
          "text": [
            "                                 OLS Regression Results                                \n",
            "=======================================================================================\n",
            "Dep. Variable:     mental_wellness_index_0_100   R-squared:                       0.558\n",
            "Model:                                     OLS   Adj. R-squared:                  0.556\n",
            "Method:                          Least Squares   F-statistic:                     250.9\n",
            "Date:                         Thu, 25 Sep 2025   Prob (F-statistic):           3.60e-71\n",
            "Time:                                 08:54:54   Log-Likelihood:                -1609.4\n",
            "No. Observations:                          400   AIC:                             3225.\n",
            "Df Residuals:                              397   BIC:                             3237.\n",
            "Df Model:                                    2                                         \n",
            "Covariance Type:                     nonrobust                                         \n",
            "=====================================================================================\n",
            "                        coef    std err          t      P>|t|      [0.025      0.975]\n",
            "-------------------------------------------------------------------------------------\n",
            "const               -12.5968      7.256     -1.736      0.083     -26.861       1.668\n",
            "screen_time_hours    -4.0752      0.289    -14.092      0.000      -4.644      -3.507\n",
            "sleep_hours           9.9387      0.845     11.761      0.000       8.277      11.600\n",
            "==============================================================================\n",
            "Omnibus:                       21.282   Durbin-Watson:                   2.026\n",
            "Prob(Omnibus):                  0.000   Jarque-Bera (JB):               23.155\n",
            "Skew:                           0.569   Prob(JB):                     9.37e-06\n",
            "Kurtosis:                       3.305   Cond. No.                         125.\n",
            "==============================================================================\n",
            "\n",
            "Notes:\n",
            "[1] Standard Errors assume that the covariance matrix of the errors is correctly specified.\n"
          ]
        }
      ]
    },
    {
      "cell_type": "markdown",
      "source": [
        "The regression analysis shows that:\n",
        "\n",
        "* Model fit: R² = 0.558 → The model explains ~56% of the variation in mental wellness, which is a moderate-to-strong fit. The overall model is highly significant (F-statistic p < 0.001).\n",
        "* Screen time: Coefficient = -4.08 (p < 0.001) → Each additional hour of screen time is associated with about a 4-point decrease in the mental wellness index, holding sleep constant.\n",
        "* Sleep hours: Coefficient = +9.94 (p < 0.001) → Each extra hour of sleep is linked to nearly a 10-point increase in the mental wellness index, controlling for screen time.\n",
        "* Constant: Not significant (p = 0.083), so baseline (when predictors = 0) isn’t meaningful here.\n",
        "\n",
        "Overall more screen time significantly harms mental wellness, while more sleep significantly improves it. Sleep has a stronger positive effect than the negative effect of screen time, but both are substantial."
      ],
      "metadata": {
        "id": "JXDiv4wEKfat"
      }
    },
    {
      "cell_type": "code",
      "source": [
        "import statsmodels.api as sm\n",
        "import statsmodels.formula.api as smf\n",
        "from statsmodels.stats.anova import anova_lm"
      ],
      "metadata": {
        "id": "gA1wtZ_fyLni"
      },
      "execution_count": null,
      "outputs": []
    },
    {
      "cell_type": "markdown",
      "source": [
        "### ***Independent variables***"
      ],
      "metadata": {
        "id": "uERDZl3CyTAA"
      }
    },
    {
      "cell_type": "code",
      "source": [
        "X = df[['screen_time_hours', 'sleep_hours']]\n",
        "y = df['mental_wellness_index_0_100']"
      ],
      "metadata": {
        "id": "boK_MxFgyMa3"
      },
      "execution_count": null,
      "outputs": []
    },
    {
      "cell_type": "markdown",
      "source": [
        "\n",
        "### Add constant"
      ],
      "metadata": {
        "id": "6Odd-gK8yZNr"
      }
    },
    {
      "cell_type": "code",
      "source": [
        "X = sm.add_constant(X)"
      ],
      "metadata": {
        "id": "ruEDNx-8yYFU"
      },
      "execution_count": null,
      "outputs": []
    },
    {
      "cell_type": "markdown",
      "source": [
        "\n",
        "### Fit regression model"
      ],
      "metadata": {
        "id": "MfYCNk8PydCL"
      }
    },
    {
      "cell_type": "code",
      "source": [
        "model = smf.ols('mental_wellness_index_0_100 ~ screen_time_hours + sleep_hours', data=df).fit()"
      ],
      "metadata": {
        "id": "2igCveUiyee_"
      },
      "execution_count": null,
      "outputs": []
    },
    {
      "cell_type": "markdown",
      "source": [
        "\n",
        "# **ANOVA table**\n"
      ],
      "metadata": {
        "id": "6Fhlii23ygi7"
      }
    },
    {
      "cell_type": "markdown",
      "source": [
        "An Analysis of Variance (ANOVA) test was conducted to evaluate whether the predictor variables significantly contribute to variations in mental wellness. This method provided statistical evidence on the strength of associations and the overall explanatory power of the regression model."
      ],
      "metadata": {
        "id": "-57hUewaOft8"
      }
    },
    {
      "cell_type": "code",
      "source": [
        "anova_results = anova_lm(model, typ=2)  # Type II ANOVA\n",
        "print(anova_results)"
      ],
      "metadata": {
        "colab": {
          "base_uri": "https://localhost:8080/"
        },
        "id": "hufFQJpByf-i",
        "outputId": "c63c53fe-ab88-40ac-a4ad-bf39305284b0"
      },
      "execution_count": null,
      "outputs": [
        {
          "output_type": "stream",
          "name": "stdout",
          "text": [
            "                         sum_sq     df           F        PR(>F)\n",
            "screen_time_hours  36605.358709    1.0  198.596992  7.420908e-37\n",
            "sleep_hours        25494.356464    1.0  138.315883  1.330072e-27\n",
            "Residual           73174.962391  397.0         NaN           NaN\n"
          ]
        }
      ]
    },
    {
      "cell_type": "markdown",
      "source": [
        "From ANOVA table it can be found that:\n",
        "\n",
        "* Screen time hours: F = 198.60, p < 0.001 → Strongly significant. Screen time explains a large portion of the variance in mental wellness.\n",
        "* Sleep hours: F = 138.32, p < 0.001 → Also strongly significant, though its effect size is slightly smaller than screen time.\n",
        "* Residuals: Represent unexplained variance after accounting for screen time and sleep.\n",
        "\n",
        "Overall both screen time and sleep hours are highly significant predictors of mental wellness. Screen time explains slightly more variance than sleep, but both contribute meaningfully to the model."
      ],
      "metadata": {
        "id": "CXP1bI_ZLDCv"
      }
    },
    {
      "cell_type": "markdown",
      "source": [
        "#**Training and Testing Two Analytical Models**"
      ],
      "metadata": {
        "id": "h5nlG1VO6jMi"
      }
    },
    {
      "cell_type": "markdown",
      "source": [
        "To evaluate predictive performance, the dataset was split into training and testing sets, and two analytical models were developed: Linear Regression and Random Forest Regressor. The models were trained on the training data and tested on unseen data to assess their accuracy and reliability in predicting mental wellness outcomes."
      ],
      "metadata": {
        "id": "sDdv_cQaOnlU"
      }
    },
    {
      "cell_type": "markdown",
      "source": [
        "###***Choose Target and Features***"
      ],
      "metadata": {
        "id": "rJnCzyc76rI3"
      }
    },
    {
      "cell_type": "code",
      "source": [
        "features = ['screen_time_hours', 'sleep_hours', 'stress_level_0_10',\n",
        "            'exercise_minutes_per_week', 'social_hours_per_week']\n",
        "target = 'mental_wellness_index_0_100'\n"
      ],
      "metadata": {
        "id": "krb9PU1hylVw"
      },
      "execution_count": null,
      "outputs": []
    },
    {
      "cell_type": "markdown",
      "source": [
        "###***Train-Test Split***"
      ],
      "metadata": {
        "id": "svYvGtE46xo7"
      }
    },
    {
      "cell_type": "code",
      "source": [
        "from sklearn.model_selection import train_test_split\n",
        "\n",
        "X = df_clean[features]\n",
        "y = df_clean[target]\n",
        "\n",
        "X_train, X_test, y_train, y_test = train_test_split(\n",
        "    X, y, test_size=0.2, random_state=42\n",
        ")"
      ],
      "metadata": {
        "id": "EOh_Fau86oBp"
      },
      "execution_count": null,
      "outputs": []
    },
    {
      "cell_type": "markdown",
      "source": [
        "###***Model 1 — Linear Regression***"
      ],
      "metadata": {
        "id": "Zsim7SAo64_z"
      }
    },
    {
      "cell_type": "markdown",
      "source": [
        "Linear regression is a statistical method that analyzes and models the relationship between a dependent variable and one or more independent variables by fitting a straight line to the data."
      ],
      "metadata": {
        "id": "30Y64W81OwrZ"
      }
    },
    {
      "cell_type": "code",
      "source": [
        "from sklearn.metrics import mean_squared_error\n",
        "import numpy as np\n",
        "\n",
        "mse = mean_squared_error(y_test, y_pred_lr)\n",
        "rmse = np.sqrt(mse)\n",
        "\n",
        "print(\"Linear Regression:\")\n",
        "print(\"R²:\", r2_score(y_test, y_pred_lr))\n",
        "print(\"RMSE:\", rmse)"
      ],
      "metadata": {
        "colab": {
          "base_uri": "https://localhost:8080/"
        },
        "id": "HyilSYpd62eC",
        "outputId": "2f9109c7-1b06-41f6-83e0-2a6f9de41014"
      },
      "execution_count": null,
      "outputs": [
        {
          "output_type": "stream",
          "name": "stdout",
          "text": [
            "Linear Regression:\n",
            "R²: 0.8432281984011254\n",
            "RMSE: 7.370896756621887\n"
          ]
        }
      ]
    },
    {
      "cell_type": "markdown",
      "source": [
        "The outcomes of Linear Regression shows:\n",
        "\n",
        "*   R² = 0.843 → Explains about 84% of the variance in mental wellness.\n",
        "*   RMSE = 7.37 → Average prediction error is around 7 points on the wellness index"
      ],
      "metadata": {
        "id": "9zsmLbNNLhAz"
      }
    },
    {
      "cell_type": "markdown",
      "source": [
        "###***Model 2 — Random Forest Regressor***"
      ],
      "metadata": {
        "id": "3fBZzahQ7OK0"
      }
    },
    {
      "cell_type": "markdown",
      "source": [
        "A Random Forest Regressor is an ensemble machine learning algorithm used for regression tasks, meaning it predicts continuous numerical values."
      ],
      "metadata": {
        "id": "XMZTE2pdO3ok"
      }
    },
    {
      "cell_type": "code",
      "source": [
        "from sklearn.ensemble import RandomForestRegressor\n",
        "from sklearn.metrics import mean_squared_error, r2_score\n",
        "import numpy as np\n",
        "\n",
        "# Train the model\n",
        "rf = RandomForestRegressor(random_state=42)\n",
        "rf.fit(X_train, y_train)\n",
        "\n",
        "# Predictions\n",
        "y_pred_rf = rf.predict(X_test)\n",
        "\n",
        "# Evaluation\n",
        "mse_rf = mean_squared_error(y_test, y_pred_rf)\n",
        "rmse_rf = np.sqrt(mse_rf)\n",
        "\n",
        "print(\"Random Forest:\")\n",
        "print(\"R²:\", r2_score(y_test, y_pred_rf))\n",
        "print(\"RMSE:\", rmse_rf)"
      ],
      "metadata": {
        "colab": {
          "base_uri": "https://localhost:8080/"
        },
        "id": "AIWBlE6J6-dS",
        "outputId": "d6f70680-00f0-4094-f8a6-f4adde22a2f3"
      },
      "execution_count": null,
      "outputs": [
        {
          "output_type": "stream",
          "name": "stdout",
          "text": [
            "Random Forest:\n",
            "R²: 0.804018585066239\n",
            "RMSE: 8.241263457542377\n"
          ]
        }
      ]
    },
    {
      "cell_type": "markdown",
      "source": [
        "The outcomes of Random Forest shows:\n",
        "\n",
        "*   R² = 0.804 → Explains about 80% of the variance.\n",
        "*   RMSE = 8.24 → Prediction error is slightly larger than linear regression."
      ],
      "metadata": {
        "id": "NGERVdqsLsTo"
      }
    },
    {
      "cell_type": "markdown",
      "source": [
        "#**Comparison Table**"
      ],
      "metadata": {
        "id": "twslMdUI8Fge"
      }
    },
    {
      "cell_type": "code",
      "source": [
        "import pandas as pd\n",
        "\n",
        "results = {\n",
        "    \"Model\": [\"Linear Regression\", \"Random Forest\"],\n",
        "    \"R²\": [0.8432281984011254, 0.804018585066239],\n",
        "    \"RMSE\": [7.370896756621887, 8.241263457542377]\n",
        "}\n",
        "\n",
        "results_df = pd.DataFrame(results)\n",
        "print(results_df)"
      ],
      "metadata": {
        "colab": {
          "base_uri": "https://localhost:8080/"
        },
        "id": "nm56mU0x7R25",
        "outputId": "d32117d4-379f-4f22-cb8b-a51b9ead8363"
      },
      "execution_count": null,
      "outputs": [
        {
          "output_type": "stream",
          "name": "stdout",
          "text": [
            "               Model        R²      RMSE\n",
            "0  Linear Regression  0.843228  7.370897\n",
            "1      Random Forest  0.804019  8.241263\n"
          ]
        }
      ]
    },
    {
      "cell_type": "markdown",
      "source": [
        "The linear regression model outperforms the random forest here, with higher explanatory power (R²) and lower prediction error (RMSE). This suggests the relationship between screen time, sleep, and mental wellness is largely linear and doesn’t benefit much from the non-linear flexibility of Random Forest.\n"
      ],
      "metadata": {
        "id": "8rfD3O0f8LHV"
      }
    },
    {
      "cell_type": "code",
      "source": [],
      "metadata": {
        "id": "LSilkrA78JNu"
      },
      "execution_count": null,
      "outputs": []
    }
  ]
}